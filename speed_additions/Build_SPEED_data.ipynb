{
 "cells": [
  {
   "cell_type": "code",
   "execution_count": 1,
   "id": "8d954b50",
   "metadata": {},
   "outputs": [],
   "source": [
    "import numpy as np\n",
    "import json\n",
    "import pandas as pd\n",
    "\n",
    "from transforms import *\n",
    "\n",
    "import os \n",
    "from PIL import Image\n",
    "from matplotlib import pyplot as plt"
   ]
  },
  {
   "cell_type": "code",
   "execution_count": 2,
   "id": "0d79a3bf",
   "metadata": {},
   "outputs": [],
   "source": [
    "thresh_dist = 5.0 # Interspacecraft distance max\n",
    "select_proba = 1.0 # Probability of selecting a valid frame from SPEED to "
   ]
  },
  {
   "cell_type": "code",
   "execution_count": 3,
   "id": "4754045e",
   "metadata": {},
   "outputs": [
    {
     "name": "stdout",
     "output_type": "stream",
     "text": [
      "img000001.jpg\n"
     ]
    }
   ],
   "source": [
    "data = {}\n",
    "### camera parameters\n",
    "data[\"fl_x\"] = 2988.5795163815555\n",
    "data[\"fl_y\"] = 2988.3401159176124\n",
    "data[\"k1\"] = -0.22383016606510672\n",
    "data[\"k2\"] = 0.51409797089106379\n",
    "data[\"p1\"] = -0.00066499611998340662\n",
    "data[\"p2\"] = -0.00021404771667484594\n",
    "data[\"p3\"] = -0.13124227429077406\n",
    "data[\"cx\"] = 960.0\n",
    "data[\"cy\"] = 600.0\n",
    "data[\"w\"] = 1920\n",
    "data[\"h\"] = 1200\n",
    "\n",
    "# iNGP params\n",
    "data[\"aabb_scale\"] = 0.5\n",
    "data[\"n_extra_learnable_dims\"] = 16\n",
    "\n",
    "speed_folder = '../datasets/speed'\n",
    "with open(speed_folder+'/train.json','r') as f:\n",
    "    metadata = json.load(f)\n",
    "\n",
    "last_line = np.zeros((1,4))\n",
    "last_line[0,3] = 1.0 # Last line of the 4x4 matrix\n",
    "\n",
    "frames = []\n",
    "for index in range(len(metadata)):\n",
    "    img_filename = metadata[index]['filename']\n",
    "    if index==0:\n",
    "        print(img_filename)\n",
    "    img_filename = \"train/\" + img_filename\n",
    "    q = np.array(metadata[index][\"q_vbs2tango\"],  dtype=np.float32)\n",
    "    t = np.array(metadata[index][\"r_Vo2To_vbs_true\"], dtype=np.float32).reshape(3,1)\n",
    "    \n",
    "    Rinv = quaternion2rotation(q).T\n",
    "    T = -Rinv@t\n",
    "    Rx180 = np.array([[1.0, 0.0, 0.0],[0.0, -1.0, 0.0],[0.0, 0.0, -1.0]])\n",
    "    R = Rinv @ Rx180\n",
    "    M = np.concatenate((R,T), axis=1)\n",
    "    M = np.concatenate((M,last_line), axis=0)\n",
    "    \n",
    "    if(np.abs(t[2,0])<thresh_dist and np.random.rand()<select_proba):\n",
    "        frame = {}\n",
    "        frame[\"file_path\"] = img_filename\n",
    "        frame[\"transform_matrix\"] = M.tolist()\n",
    "        frames.append(frame)\n",
    "        \n",
    "data[\"frames\"] = frames\n",
    "with open('transforms.json', 'w') as f:\n",
    "    json.dump(data, f, indent=2)"
   ]
  },
  {
   "cell_type": "code",
   "execution_count": null,
   "metadata": {},
   "outputs": [],
   "source": []
  }
 ],
 "metadata": {
  "kernelspec": {
   "display_name": "Python 3 (ipykernel)",
   "language": "python",
   "name": "python3"
  },
  "language_info": {
   "codemirror_mode": {
    "name": "ipython",
    "version": 3
   },
   "file_extension": ".py",
   "mimetype": "text/x-python",
   "name": "python",
   "nbconvert_exporter": "python",
   "pygments_lexer": "ipython3",
   "version": "3.8.18"
  }
 },
 "nbformat": 4,
 "nbformat_minor": 5
}
